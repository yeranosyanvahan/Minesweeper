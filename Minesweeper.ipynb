{
 "cells": [
  {
   "cell_type": "code",
   "execution_count": 1,
   "metadata": {},
   "outputs": [
    {
     "name": "stdout",
     "output_type": "stream",
     "text": [
      "pygame 1.9.6\n",
      "Hello from the pygame community. https://www.pygame.org/contribute.html\n"
     ]
    }
   ],
   "source": [
    "import numpy as np\n",
    "import random\n",
    "import time\n",
    "import pygame\n",
    "class Grid:\n",
    "    def __init__(self,width,height):\n",
    "        self.size=(width,height)\n",
    "        self.grid=np.zeros(self.size,dtype=np.int8)\n",
    "        self.visible=np.zeros(self.size,dtype=np.int8)-9\n",
    "    # Get neighbors of a cell\n",
    "    def neighbors(self,positions:tuple):\n",
    "        positions=np.array(positions)\n",
    "        stack=[]\n",
    "        for addx in range(-1,2,1):\n",
    "            for addy in range(-1,2,1):\n",
    "                if(addx!=0 or addy !=0):\n",
    "                    stack.append(positions+np.array([addx,addy]))\n",
    "                \n",
    "        stack = np.vstack(stack)\n",
    "        X=stack.T[0]\n",
    "        stack=stack[np.logical_and(X>=0, X<=self.size[0]-1)]\n",
    "        Y=stack.T[1]\n",
    "        stack=stack[np.logical_and(Y>=0, Y<=self.size[1]-1)]\n",
    "        return stack\n",
    "    \n",
    "    def reset(self):\n",
    "        self.visible=np.zeros(self.size,dtype=np.int8)-9\n",
    "    \n",
    "    def rclick(self,position):\n",
    "        clicked=self.visible[position]\n",
    "        if(clicked==-5):\n",
    "            self.visible[position]=-9\n",
    "        else:\n",
    "            self.visible[position]=-5\n",
    "            \n",
    "    def lclick(self,position):\n",
    "        position=tuple(position)\n",
    "        clicked=self.grid[position]\n",
    "        self.visible[position]=clicked\n",
    "        if(clicked==-1):\n",
    "            print(\"you loose\")\n",
    "            self.visible=self.grid\n",
    "            self.visible[position]=-9\n",
    "            return False\n",
    "        elif(clicked==0):\n",
    "            neighbors=self.neighbors([position])\n",
    "            neighbors=neighbors[self.visible[tuple(neighbors.T)]==-9]\n",
    "            [self.lclick(n) for n in neighbors]\n",
    "        return True\n",
    "    # Put bombs in random locations\n",
    "    def randomize(self,n_bombs):\n",
    "        sample= random.sample(range(self.size[0]*self.size[1]),n_bombs)\n",
    "        grid=self.grid.reshape(-1)\n",
    "        grid[sample]=-1\n",
    "        self.grid=grid.reshape(self.size)\n",
    "    # Generate the grid to play\n",
    "    def generate(self,n_bombs):\n",
    "        self.randomize(n_bombs)\n",
    "        stack=[]\n",
    "        G=self.grid\n",
    "        Bombs=np.argwhere(G==-1)\n",
    "        stack=self.neighbors(Bombs)\n",
    "        stack=stack[G[tuple(stack.T)]!=-1]\n",
    "        for s in stack:\n",
    "            G[tuple(s)]+=1\n",
    "        self.grid=G"
   ]
  },
  {
   "cell_type": "code",
   "execution_count": 2,
   "metadata": {},
   "outputs": [
    {
     "data": {
      "text/plain": [
       "{'grid1': 1,\n",
       " 'grid2': 2,\n",
       " 'grid3': 3,\n",
       " 'grid4': 4,\n",
       " 'grid5': 5,\n",
       " 'grid6': 6,\n",
       " 'grid7': 7,\n",
       " 'grid8': 8}"
      ]
     },
     "execution_count": 2,
     "metadata": {},
     "output_type": "execute_result"
    }
   ],
   "source": [
    "{f'grid{n}':n for n in range(1,9)}"
   ]
  },
  {
   "cell_type": "code",
   "execution_count": 88,
   "metadata": {},
   "outputs": [],
   "source": [
    "class Game:\n",
    "    def __init__(self,Grid,Width=900,Height=500,border=10,top_border=20):\n",
    "        self.Grid=Grid\n",
    "        self.visible=Grid.visible\n",
    "        pygame.init()\n",
    "        pygame.display.set_caption(\"MineSweeper\")\n",
    "        self.xmin, self.xmax = border, Width+border\n",
    "        self.ymin, self.ymax = top_border, top_border+Height+border\n",
    "        self.Win=pygame.display.set_mode((self.xmax+border,self.ymax+border))\n",
    "        images=['empty','flag','Grid', 'grid1', 'grid2', 'grid3', 'grid4', 'grid5', 'grid6', 'grid7', 'grid8','mine','mineClicked','mineFalse']\n",
    "        mapper={ \n",
    "                 'empty':0,\n",
    "                 'Grid':\"Something\",\n",
    "                 'flag':-5,\n",
    "                 'grid1': 1,\n",
    "                 'grid2': 2,\n",
    "                 'grid3': 3,\n",
    "                 'grid4': 4,\n",
    "                 'grid5': 5,\n",
    "                 'grid6': 6,\n",
    "                 'grid7': 7,\n",
    "                 'grid8': 8,\n",
    "                 'mine': -1,\n",
    "                 'mineClicked':-9,\n",
    "                 'mineFalse':-99\n",
    "               }\n",
    "        self.unitsize=(Width//Grid.size[0],Height//Grid.size[1])\n",
    "        self.sprite={mapper[img]:\n",
    "                     pygame.transform.scale(pygame.image.load(f\"Sprites/{img}.png\"),self.unitsize)\n",
    "                     for img in images}\n",
    "        \n",
    "        Board_indeces=np.zeros((*self.Grid.size,(2)))\n",
    "        for ix,x in enumerate(np.linspace(self.xmin,self.xmax,self.Grid.size[0])):\n",
    "            for iy,y in enumerate(np.linspace(self.ymin,self.ymax,self.Grid.size[1])):\n",
    "                Board_indeces[ix][iy]=np.array([x,y])\n",
    "        self.Board_indeces=Board_indeces\n",
    "        \n",
    "    def set_background_color(self,color):\n",
    "        self.Win.fill(color)\n",
    "        \n",
    "    def draw_board(self):\n",
    "        drawboard = np.concatenate([self.Board_indeces,self.Grid.grid.reshape(*self.Grid.grid.shape,1)], axis=-1)\n",
    "        def something(sample):\n",
    "            GG.Win.blit(self.sprite[sample[2]],tuple(sample[:2]))\n",
    "        list(map(something,drawboard.reshape(-1,3)))\n",
    "        pygame.display.update()\n",
    "        \n",
    "    def wait(self,sec):\n",
    "        clock = pygame.time.Clock()\n",
    "        for _ in range(sec*60):\n",
    "         clock.tick(60)\n",
    "         pygame.event.get()\n",
    "           \n",
    "    def quit(self):\n",
    "        pygame.quit()"
   ]
  },
  {
   "cell_type": "code",
   "execution_count": 89,
   "metadata": {},
   "outputs": [],
   "source": [
    "G=Grid(15,10)\n",
    "G.generate(10)\n",
    "GG=Game(G,Width=600,Height=300,border=30,top_border=100)\n",
    "GG.set_background_color((127,127,127))\n",
    "\n",
    "GG.draw_board()\n",
    "GG.wait(4)\n",
    "GG.quit()"
   ]
  },
  {
   "cell_type": "code",
   "execution_count": null,
   "metadata": {},
   "outputs": [],
   "source": []
  }
 ],
 "metadata": {
  "kernelspec": {
   "display_name": "Python 3",
   "language": "python",
   "name": "python3"
  },
  "language_info": {
   "codemirror_mode": {
    "name": "ipython",
    "version": 3
   },
   "file_extension": ".py",
   "mimetype": "text/x-python",
   "name": "python",
   "nbconvert_exporter": "python",
   "pygments_lexer": "ipython3",
   "version": "3.7.6"
  }
 },
 "nbformat": 4,
 "nbformat_minor": 5
}
