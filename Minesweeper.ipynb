{
 "cells": [
  {
   "cell_type": "code",
   "execution_count": 1,
   "id": "3e2f3d4b",
   "metadata": {},
   "outputs": [
    {
     "name": "stdout",
     "output_type": "stream",
     "text": [
      "pygame 2.0.1 (SDL 2.0.14, Python 3.8.5)\n",
      "Hello from the pygame community. https://www.pygame.org/contribute.html\n"
     ]
    }
   ],
   "source": [
    "from classes import *\n",
    "from functools import reduce\n",
    "import pygame"
   ]
  },
  {
   "cell_type": "code",
   "execution_count": 2,
   "id": "43472536",
   "metadata": {},
   "outputs": [],
   "source": [
    "def arrange(nbomb,space):\n",
    "    if(nbomb==1):\n",
    "        return frozenset(frozenset({i}) for i in space)\n",
    "    return frozenset(frozenset([i]) | t for i in space for t in arrange(nbomb-1,space - {i}))\n"
   ]
  },
  {
   "cell_type": "code",
   "execution_count": 3,
   "id": "f3becb20",
   "metadata": {},
   "outputs": [],
   "source": [
    "class Barrangement:\n",
    "    def __init__(self,arrangement,whole):\n",
    "        self.arrangement=arrangement\n",
    "        self.whole=whole\n",
    "    def __add__(self,B1):\n",
    "        if(self.whole=={}): return B1\n",
    "        if(B1.whole=={}): return self\n",
    "        \n",
    "        intersect= B1.whole & self.whole\n",
    "        return Barrangement({b1 | b2 if(b1 & b2 == b1 & intersect == b2 & intersect) else None\n",
    "        for b1 in B1.arrangement\n",
    "        for b2 in self.arrangement}-{None},B1.whole | self.whole)\n",
    "    def probability(self):\n",
    "        prob={key:0 for key in self.whole}\n",
    "        L=len(self.arrangement)\n",
    "        if(L==0):\n",
    "            return prob\n",
    "        for S in self.arrangement:\n",
    "            for key in S:\n",
    "                prob[key]+=1\n",
    "\n",
    "        for key in prob.keys():  \n",
    "            prob[key]/=L\n",
    "        return prob\n",
    "    def __repr__(self):\n",
    "        return f'From:    {self.whole} \\nArrange: {self.arrangement}   '\n",
    "\n",
    "class Psum:\n",
    "    def __init__(self, arrangements):\n",
    "        self.arrangements=arrangements\n",
    "        self.Sets=[a.whole for a in arrangements]\n",
    "    def probs(self):\n",
    "        self.islands()\n",
    "        Probs=[[Barrangement({},{})]]*len(self.Sets)\n",
    "        for index,check in enumerate(self.Sets):\n",
    "          for sample in self.arrangements:          \n",
    "                if(sample.whole.issubset(check)):\n",
    "                    Probs[index]=Probs[index]+[sample]\n",
    "                    \n",
    "        Probs=[reduce(lambda x,y:x+y,P).probability() for P in Probs]\n",
    "        Prob = {}\n",
    "        for P in Probs:\n",
    "            Prob.update(P)\n",
    "        return Prob\n",
    "    \n",
    "    def islands(self):\n",
    "        if(len(self.Sets)==1):\n",
    "            return\n",
    "        for index,value in enumerate(self.Sets[1:]):\n",
    "            if(self.Sets[0] & value != set()):\n",
    "                self.Sets[0]=self.Sets[0] | self.Sets[index+1]\n",
    "                del self.Sets[index+1]\n",
    "                self.islands()\n",
    "                return\n",
    "        a0=self.Sets[0]\n",
    "        del self.Sets[0]\n",
    "        self.islands()\n",
    "        \n",
    "        self.Sets.append(a0)\n"
   ]
  },
  {
   "cell_type": "code",
   "execution_count": 4,
   "id": "f5af28b4",
   "metadata": {},
   "outputs": [],
   "source": [
    "def boardcolorinit(self):\n",
    "    self.set_background_color((0,0,255))\n",
    "    self.prev_board=self.visible\n",
    "    self.Arrange=Barrangement({},{})\n",
    "def update(self):\n",
    "    Grid=self.visible\n",
    "    positions=np.array(np.where((Grid >= 1) & (Grid < 9))).T\n",
    "    neighbors=self.neighbors(positions)\n",
    "    Cond=self.visible[tuple(neighbors.T)]\n",
    "    neighbors=neighbors[(Cond==9) | (Cond==-5)]\n",
    "    \n",
    "    Neighborset={'all':{tuple(p) for p in neighbors}}    \n",
    "    valueset={}\n",
    "    for p in positions:\n",
    "         neighbor = np.array([(p[0]+addx,p[1]+addy) for addx in range(-1,2) for addy in range(-1,2)])        \n",
    "         neighbor = {tuple(p) for p in neighbor} & Neighborset['all']\n",
    "         Neighborset[tuple(p)]=neighbor\n",
    "         valueset[tuple(p)]=self.visible[p[0],p[1]]\n",
    "    \n",
    "    arrangements=[]\n",
    "    for key in valueset.keys():\n",
    "        neighbor=Neighborset[key]\n",
    "        value=valueset[key]\n",
    "        arrangements.append(Barrangement(arrange(value,neighbor),neighbor))\n",
    "        \n",
    "    Prob=Psum(arrangements).probs()\n",
    "    for key in Prob.keys():\n",
    "        n=int(Prob[key]*512)\n",
    "        color=(min(n,255),min((512-n),255),0)\n",
    "        self.background[key]=color\n",
    "\n",
    "Grid.update=update\n",
    "Grid.boardcolorinit=boardcolorinit"
   ]
  },
  {
   "cell_type": "code",
   "execution_count": null,
   "id": "a4907335",
   "metadata": {
    "scrolled": false
   },
   "outputs": [],
   "source": [
    "G=Grid(80,45)\n",
    "G.generate(800)\n",
    "\n",
    "GG=Game(G,Width=1600,Height=900,border=20,top_border=50)\n",
    "GG.set_background_color((127,127,127))\n",
    "GG.Grid.set_background_color((0,0,255))\n",
    "GG.draw_board()\n",
    "GG.play()"
   ]
  },
  {
   "cell_type": "code",
   "execution_count": null,
   "id": "e36f924e",
   "metadata": {},
   "outputs": [],
   "source": []
  }
 ],
 "metadata": {
  "kernelspec": {
   "display_name": "Python 3",
   "language": "python",
   "name": "python3"
  },
  "language_info": {
   "codemirror_mode": {
    "name": "ipython",
    "version": 3
   },
   "file_extension": ".py",
   "mimetype": "text/x-python",
   "name": "python",
   "nbconvert_exporter": "python",
   "pygments_lexer": "ipython3",
   "version": "3.8.5"
  }
 },
 "nbformat": 4,
 "nbformat_minor": 5
}
