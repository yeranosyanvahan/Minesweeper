{
 "cells": [
  {
   "cell_type": "code",
   "execution_count": 1,
   "id": "114a43ff",
   "metadata": {},
   "outputs": [
    {
     "name": "stdout",
     "output_type": "stream",
     "text": [
      "pygame 2.0.1 (SDL 2.0.14, Python 3.8.5)\n",
      "Hello from the pygame community. https://www.pygame.org/contribute.html\n"
     ]
    }
   ],
   "source": [
    "import numpy as np\n",
    "import random\n",
    "import time\n",
    "import pygame\n",
    "class Grid:\n",
    "    def __init__(self,width,height):\n",
    "        self.size=(width,height)\n",
    "        self.grid=np.zeros(self.size,dtype=np.int8)\n",
    "        self.visible=np.zeros(self.size,dtype=np.int8)-9\n",
    "    # Get neighbors of a cell\n",
    "    def neighbors(self,positions:tuple):\n",
    "        positions=np.array(positions)\n",
    "        stack=[]\n",
    "        for addx in range(-1,2,1):\n",
    "            for addy in range(-1,2,1):\n",
    "                if(addx!=0 or addy !=0):\n",
    "                    stack.append(positions+np.array([addx,addy]))\n",
    "                \n",
    "        stack = np.vstack(stack)\n",
    "        X=stack.T[0]\n",
    "        stack=stack[np.logical_and(X>=0, X<=self.size[0]-1)]\n",
    "        Y=stack.T[1]\n",
    "        stack=stack[np.logical_and(Y>=0, Y<=self.size[1]-1)]\n",
    "        return stack\n",
    "    def reset(self):\n",
    "        self.visible=np.zeros(self.size,dtype=np.int8)-9\n",
    "    \n",
    "    def rclick(self,position):\n",
    "        clicked=self.visible[position]\n",
    "        if(clicked==-1):\n",
    "            self.visible[position]=-9\n",
    "        else:\n",
    "            self.visible[position]=-1\n",
    "            \n",
    "    def lclick(self,position):\n",
    "        position=tuple(position)\n",
    "        clicked=self.grid[position]\n",
    "        self.visible[position]=clicked\n",
    "        if(clicked==-1):\n",
    "            print(\"you loose\")\n",
    "            self.visible=self.grid\n",
    "            self.visible[position]=-9\n",
    "            return False\n",
    "        elif(clicked==0):\n",
    "            neighbors=self.neighbors([position])\n",
    "            neighbors=neighbors[self.visible[tuple(neighbors.T)]==-9]\n",
    "            [self.lclick(n) for n in neighbors]\n",
    "        return True\n",
    "    # Put bombs in random locations\n",
    "    def randomize(self,n_bombs):\n",
    "        sample= random.sample(range(self.size[0]*self.size[1]),n_bombs)\n",
    "        grid=self.grid.reshape(-1)\n",
    "        grid[sample]=-1\n",
    "        self.grid=grid.reshape(self.size)\n",
    "    # Generate the grid to play\n",
    "    def generate(self,n_bombs):\n",
    "        self.randomize(n_bombs)\n",
    "        stack=[]\n",
    "        G=self.grid\n",
    "        Bombs=np.argwhere(G==-1)\n",
    "        stack=self.neighbors(Bombs)\n",
    "        stack=stack[G[tuple(stack.T)]!=-1]\n",
    "        for s in stack:\n",
    "            G[tuple(s)]+=1\n",
    "        self.grid=G"
   ]
  },
  {
   "cell_type": "code",
   "execution_count": 5,
   "id": "5f0ca990",
   "metadata": {},
   "outputs": [],
   "source": [
    "class Game:\n",
    "    def __init__(self,Grid,Width=900,Height=500,border=10,top_border=20):\n",
    "        self.Grid=Grid\n",
    "        self.visible=Grid.visible\n",
    "        pygame.init()\n",
    "        pygame.display.set_caption(\"MineSweeper\")\n",
    "        self.Win=pygame.display.set_mode((Width+2*border,Height+top_border+border))\n",
    "        \n",
    "        images=['empty','flag','Grid', 'grid1', 'grid2', 'grid3', 'grid4', 'grid5', 'grid6', 'grid7', 'grid8','mine','mineClicked','mineFalse']\n",
    "        self.sprite={img:pygame.image.load(f\"Sprites/{img}.png\") for img in images}\n",
    "    def set_background_color(self,color):\n",
    "        self.Win.fill(color)\n",
    "    def draw(self):\n",
    "        pygame.display.update()\n",
    "    def wait(self,sec):\n",
    "        time.sleep(sec)\n",
    "    def quit(self):\n",
    "        pygame.quit()"
   ]
  },
  {
   "cell_type": "code",
   "execution_count": 12,
   "id": "d8d56915",
   "metadata": {},
   "outputs": [],
   "source": [
    "G=Grid(10,10)\n",
    "G.generate(10)\n",
    "GG=Game(G)\n",
    "GG.set_background_color((127,127,127))\n",
    "GG.Win.blit(GG.sprite['empty'],(0,0))\n",
    "GG.draw()\n",
    "\n",
    "GG.wait(4)\n",
    "GG.quit()"
   ]
  },
  {
   "cell_type": "code",
   "execution_count": null,
   "id": "94479f14",
   "metadata": {},
   "outputs": [],
   "source": []
  },
  {
   "cell_type": "code",
   "execution_count": null,
   "id": "6c84adf9",
   "metadata": {},
   "outputs": [],
   "source": []
  }
 ],
 "metadata": {
  "kernelspec": {
   "display_name": "Python 3",
   "language": "python",
   "name": "python3"
  },
  "language_info": {
   "codemirror_mode": {
    "name": "ipython",
    "version": 3
   },
   "file_extension": ".py",
   "mimetype": "text/x-python",
   "name": "python",
   "nbconvert_exporter": "python",
   "pygments_lexer": "ipython3",
   "version": "3.8.5"
  }
 },
 "nbformat": 4,
 "nbformat_minor": 5
}
