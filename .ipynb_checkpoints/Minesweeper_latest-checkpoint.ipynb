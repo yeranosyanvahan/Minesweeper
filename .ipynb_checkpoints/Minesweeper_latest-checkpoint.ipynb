{
 "cells": [
  {
   "cell_type": "code",
   "execution_count": 10,
   "id": "3ad22a52",
   "metadata": {},
   "outputs": [],
   "source": [
    "from classes import *\n",
    "from functools import reduce\n",
    "import pygame"
   ]
  },
  {
   "cell_type": "code",
   "execution_count": 11,
   "id": "23e75276",
   "metadata": {},
   "outputs": [],
   "source": [
    "def cartesian_product(*arrays):\n",
    "    la = len(arrays)\n",
    "    dtype = np.result_type(*arrays)\n",
    "    arr = np.empty([len(a) for a in arrays] + [la], dtype=dtype)\n",
    "    for i, a in enumerate(np.ix_(*arrays)):\n",
    "        arr[...,i] = a\n",
    "    return arr.reshape(-1, la)"
   ]
  },
  {
   "cell_type": "code",
   "execution_count": 12,
   "id": "0021f13d",
   "metadata": {},
   "outputs": [],
   "source": [
    "def arrange(nbomb,space):\n",
    "    if(nbomb==1):\n",
    "        return frozenset(frozenset({i}) for i in space)\n",
    "    return frozenset(frozenset([i]) | t for i in space for t in arrange(nbomb-1,space - {i}))\n"
   ]
  },
  {
   "cell_type": "code",
   "execution_count": 13,
   "id": "3ae7dafc",
   "metadata": {},
   "outputs": [
    {
     "data": {
      "text/plain": [
       "array([4, 1, 2, 1])"
      ]
     },
     "execution_count": 13,
     "metadata": {},
     "output_type": "execute_result"
    }
   ],
   "source": [
    "A=np.array([1,2,3,4])\n",
    "J=np.array([3,0,1,0])\n",
    "A[J]"
   ]
  },
  {
   "cell_type": "code",
   "execution_count": 14,
   "id": "d3646d2a",
   "metadata": {},
   "outputs": [],
   "source": [
    "class Barrangement:\n",
    "    def __init__(self,arrangement,whole):\n",
    "        self.arrangement=frozenset(arrangement)\n",
    "        self.whole=frozenset(whole)\n",
    "    def Iteration(cat1,cat2):\n",
    "        Return = []\n",
    "        for u in range(max(max(cat1),max(cat2))+1):\n",
    "            index1=np.where(cat1==u)[0]\n",
    "            index2=np.where(cat2==u)[0]\n",
    "          \n",
    "            if(len(index1)!=0 and len(index2)!=0):\n",
    "             Return.extend(list(cartesian_product(index1,index2)))\n",
    "        return np.array(Return)\n",
    "        \n",
    "    def __radd__(self, other):\n",
    "        return other + self.x\n",
    "    def __add__(self,B1):\n",
    "        if(not any(self.whole)): return B1\n",
    "        if(not any(B1.whole)): return self\n",
    "        \n",
    "        wintersect,wunion= B1.whole & self.whole, B1.whole | self.whole\n",
    "        B1,B2=list(B1.arrangement),list(self.arrangement)\n",
    "        subb1=[(wintersect&b).__hash__() for b in B1]\n",
    "        subb2=[(wintersect&b).__hash__() for b in B2]\n",
    "        unique,categories=np.unique(subb1+subb2,return_inverse=True,axis=0)\n",
    "        cb1=categories[:len(B1)]\n",
    "        cb2=categories[len(B1):]\n",
    "        Iteration = Barrangement.Iteration(cb1,cb2)\n",
    "        \n",
    "        b1=np.array(B1)[Iteration[:,0]]\n",
    "        b2=np.array(B2)[Iteration[:,1]]\n",
    "\n",
    "        return Barrangement(b1 | b2,wunion)\n",
    "    def probability(self):\n",
    "        prob={key:0 for key in self.whole}\n",
    "        L=len(self.arrangement)\n",
    "        if(L==0):\n",
    "            return prob\n",
    "        for S in self.arrangement:\n",
    "            for key in S:\n",
    "                prob[key]+=1\n",
    "\n",
    "        for key in prob.keys():  \n",
    "            prob[key]/=L\n",
    "        return prob\n",
    "    def __repr__(self):\n",
    "        return f'From:    {self.whole} \\nArrange: {self.arrangement}   '\n",
    "\n",
    "class Psum:\n",
    "    def __init__(self):\n",
    "        self.arrangements=[Barrangement(set(),set())]\n",
    "        self.Sets=[set()]\n",
    "    def probs(self):\n",
    "        self.islands()\n",
    "        Seperation=[[Barrangement({},{})]]*len(self.Sets)\n",
    "        \n",
    "        for index,check in enumerate(self.Sets):\n",
    "          for sample in self.arrangements:          \n",
    "                if(sample.whole.issubset(check)):\n",
    "                    Seperation[index]=Seperation[index]+[sample]         \n",
    "        Probs=[sum(P).probability() for P in Seperation]\n",
    "        Prob = {}\n",
    "        for P in Probs:\n",
    "            Prob.update(P)\n",
    "        return Prob\n",
    "    def poss(self):\n",
    "        return [len(p.arrangement) for p in self.arrangements]\n",
    "    def update(self,arrangements):\n",
    "        self.arrangements[0]=reduce(lambda x,y:x+y,arrangements+[self.arrangements[0]])\n",
    "        self.Sets=[self.arrangements[0].whole]\n",
    "#         sets = [a.whole for a in arrangements]\n",
    "#         Update = []\n",
    "#         for i,s in enumerate(sets):\n",
    "#             for S in self.Sets:\n",
    "#                 if(S.issubset(s)):\n",
    "#                     Update.append(arrangements[i])\n",
    "                    \n",
    "#         self.arrangements+=Update\n",
    "#         self.Sets+=[a.whole for a in Update]\n",
    "        return self\n",
    "                    \n",
    "    def islands(self):\n",
    "        if(len(self.Sets)==1):\n",
    "            return\n",
    "        for index,value in enumerate(self.Sets[1:]):\n",
    "            if(self.Sets[0] & value != set()):\n",
    "                self.Sets[0]=self.Sets[0] | self.Sets[index+1]\n",
    "                del self.Sets[index+1]\n",
    "                self.islands()\n",
    "                return\n",
    "        a0=self.Sets[0]\n",
    "        del self.Sets[0]\n",
    "        self.islands()\n",
    "        \n",
    "        self.Sets.append(a0)\n"
   ]
  },
  {
   "cell_type": "code",
   "execution_count": 15,
   "id": "b6f4b2df",
   "metadata": {},
   "outputs": [],
   "source": [
    "def boardcolorinit(self):\n",
    "    self.set_background_color((0,0,255))\n",
    "    self.prev_board=self.visible\n",
    "    self.Arrange=Barrangement({},{})\n",
    "    self.Psum=Psum()\n",
    "    self.Probspace=np.zeros(self.grid.shape)-1\n",
    "    self.Poss=0\n",
    "def update(self):\n",
    "    Grid=self.visible\n",
    "    positions=np.array(np.where((Grid >= 1) & (Grid < 9))).T\n",
    "    neighbors=self.neighbors(positions)\n",
    "    Cond=self.visible[tuple(neighbors.T)]\n",
    "    neighbors=neighbors[(Cond==9) | (Cond==-5)]\n",
    "    \n",
    "    Neighborset={'all':{tuple(p) for p in neighbors}}    \n",
    "    valueset={}\n",
    "    for p in positions:\n",
    "         neighbor = np.array([(p[0]+addx,p[1]+addy) for addx in range(-1,2) for addy in range(-1,2)])        \n",
    "         neighbor = {tuple(p) for p in neighbor} & Neighborset['all']\n",
    "         Neighborset[tuple(p)]=neighbor\n",
    "         valueset[tuple(p)]=self.visible[p[0],p[1]]\n",
    "    \n",
    "    arrangements=[]\n",
    "    for key in valueset.keys():\n",
    "        neighbor=Neighborset[key]\n",
    "        value=valueset[key]\n",
    "        arrangements.append(Barrangement(arrange(value,neighbor),neighbor))\n",
    "    #Probability and Possibility\n",
    "    Prob=self.Psum.update(arrangements+[Barrangement({frozenset({})},{tuple(a) for a in positions})]).probs()\n",
    "    self.Poss=self.Psum.poss()\n",
    "    for key in Prob.keys():\n",
    "        p=Prob[key]\n",
    "        self.Probspace[key]=p\n",
    "        \n",
    "        pint=int(p*512)\n",
    "        self.background[key]=color=(min(pint,255),min((512-pint),255),0)\n",
    "\n",
    "Grid.update=update\n",
    "Grid.boardcolorinit=boardcolorinit"
   ]
  },
  {
   "cell_type": "code",
   "execution_count": 16,
   "id": "8ad92c60",
   "metadata": {
    "scrolled": false
   },
   "outputs": [
    {
     "ename": "TypeError",
     "evalue": "unsupported operand type(s) for +: 'int' and 'Barrangement'",
     "output_type": "error",
     "traceback": [
      "\u001b[1;31m---------------------------------------------------------------------------\u001b[0m",
      "\u001b[1;31mTypeError\u001b[0m                                 Traceback (most recent call last)",
      "\u001b[1;32m<ipython-input-16-05fd15ffd12e>\u001b[0m in \u001b[0;36m<module>\u001b[1;34m\u001b[0m\n\u001b[0;32m      9\u001b[0m \u001b[1;32mimport\u001b[0m \u001b[0mpstats\u001b[0m\u001b[1;33m\u001b[0m\u001b[1;33m\u001b[0m\u001b[0m\n\u001b[0;32m     10\u001b[0m \u001b[0mprofile\u001b[0m \u001b[1;33m=\u001b[0m \u001b[0mcProfile\u001b[0m\u001b[1;33m.\u001b[0m\u001b[0mProfile\u001b[0m\u001b[1;33m(\u001b[0m\u001b[1;33m)\u001b[0m\u001b[1;33m\u001b[0m\u001b[1;33m\u001b[0m\u001b[0m\n\u001b[1;32m---> 11\u001b[1;33m \u001b[0mprofile\u001b[0m\u001b[1;33m.\u001b[0m\u001b[0mruncall\u001b[0m\u001b[1;33m(\u001b[0m\u001b[0mGG\u001b[0m\u001b[1;33m.\u001b[0m\u001b[0mplay\u001b[0m\u001b[1;33m)\u001b[0m\u001b[1;33m\u001b[0m\u001b[1;33m\u001b[0m\u001b[0m\n\u001b[0m\u001b[0;32m     12\u001b[0m \u001b[0mps\u001b[0m \u001b[1;33m=\u001b[0m \u001b[0mpstats\u001b[0m\u001b[1;33m.\u001b[0m\u001b[0mStats\u001b[0m\u001b[1;33m(\u001b[0m\u001b[0mprofile\u001b[0m\u001b[1;33m)\u001b[0m\u001b[1;33m\u001b[0m\u001b[1;33m\u001b[0m\u001b[0m\n\u001b[0;32m     13\u001b[0m \u001b[1;33m\u001b[0m\u001b[0m\n",
      "\u001b[1;32m~\\anaconda3\\lib\\cProfile.py\u001b[0m in \u001b[0;36mruncall\u001b[1;34m(*args, **kw)\u001b[0m\n\u001b[0;32m    122\u001b[0m         \u001b[0mself\u001b[0m\u001b[1;33m.\u001b[0m\u001b[0menable\u001b[0m\u001b[1;33m(\u001b[0m\u001b[1;33m)\u001b[0m\u001b[1;33m\u001b[0m\u001b[1;33m\u001b[0m\u001b[0m\n\u001b[0;32m    123\u001b[0m         \u001b[1;32mtry\u001b[0m\u001b[1;33m:\u001b[0m\u001b[1;33m\u001b[0m\u001b[1;33m\u001b[0m\u001b[0m\n\u001b[1;32m--> 124\u001b[1;33m             \u001b[1;32mreturn\u001b[0m \u001b[0mfunc\u001b[0m\u001b[1;33m(\u001b[0m\u001b[1;33m*\u001b[0m\u001b[0margs\u001b[0m\u001b[1;33m,\u001b[0m \u001b[1;33m**\u001b[0m\u001b[0mkw\u001b[0m\u001b[1;33m)\u001b[0m\u001b[1;33m\u001b[0m\u001b[1;33m\u001b[0m\u001b[0m\n\u001b[0m\u001b[0;32m    125\u001b[0m         \u001b[1;32mfinally\u001b[0m\u001b[1;33m:\u001b[0m\u001b[1;33m\u001b[0m\u001b[1;33m\u001b[0m\u001b[0m\n\u001b[0;32m    126\u001b[0m             \u001b[0mself\u001b[0m\u001b[1;33m.\u001b[0m\u001b[0mdisable\u001b[0m\u001b[1;33m(\u001b[0m\u001b[1;33m)\u001b[0m\u001b[1;33m\u001b[0m\u001b[1;33m\u001b[0m\u001b[0m\n",
      "\u001b[1;32m~\\jupyter\\Minesweeper\\classes.py\u001b[0m in \u001b[0;36mplay\u001b[1;34m(self)\u001b[0m\n\u001b[0;32m    234\u001b[0m                             \u001b[1;32mbreak\u001b[0m\u001b[1;33m\u001b[0m\u001b[1;33m\u001b[0m\u001b[0m\n\u001b[0;32m    235\u001b[0m                          \u001b[1;32mif\u001b[0m\u001b[1;33m(\u001b[0m\u001b[0mrefresh\u001b[0m\u001b[1;33m)\u001b[0m\u001b[1;33m:\u001b[0m\u001b[1;33m\u001b[0m\u001b[1;33m\u001b[0m\u001b[0m\n\u001b[1;32m--> 236\u001b[1;33m                             \u001b[0mself\u001b[0m\u001b[1;33m.\u001b[0m\u001b[0mGrid\u001b[0m\u001b[1;33m.\u001b[0m\u001b[0mupdate\u001b[0m\u001b[1;33m(\u001b[0m\u001b[1;33m)\u001b[0m\u001b[1;33m\u001b[0m\u001b[1;33m\u001b[0m\u001b[0m\n\u001b[0m\u001b[0;32m    237\u001b[0m                             \u001b[0mself\u001b[0m\u001b[1;33m.\u001b[0m\u001b[0mdraw_board\u001b[0m\u001b[1;33m(\u001b[0m\u001b[1;33m)\u001b[0m\u001b[1;33m\u001b[0m\u001b[1;33m\u001b[0m\u001b[0m\n\u001b[0;32m    238\u001b[0m                             \u001b[0mself\u001b[0m\u001b[1;33m.\u001b[0m\u001b[0mdrawtext\u001b[0m\u001b[1;33m(\u001b[0m\u001b[1;34mf\"Ncomb:{self.Grid.Poss}\"\u001b[0m\u001b[1;33m,\u001b[0m\u001b[0mn\u001b[0m\u001b[1;33m=\u001b[0m\u001b[1;36m1\u001b[0m\u001b[1;33m,\u001b[0m\u001b[0mx\u001b[0m\u001b[1;33m=\u001b[0m\u001b[1;36m0\u001b[0m\u001b[1;33m)\u001b[0m\u001b[1;33m\u001b[0m\u001b[1;33m\u001b[0m\u001b[0m\n",
      "\u001b[1;32m<ipython-input-15-e7e474efa164>\u001b[0m in \u001b[0;36mupdate\u001b[1;34m(self)\u001b[0m\n\u001b[0;32m     27\u001b[0m         \u001b[0marrangements\u001b[0m\u001b[1;33m.\u001b[0m\u001b[0mappend\u001b[0m\u001b[1;33m(\u001b[0m\u001b[0mBarrangement\u001b[0m\u001b[1;33m(\u001b[0m\u001b[0marrange\u001b[0m\u001b[1;33m(\u001b[0m\u001b[0mvalue\u001b[0m\u001b[1;33m,\u001b[0m\u001b[0mneighbor\u001b[0m\u001b[1;33m)\u001b[0m\u001b[1;33m,\u001b[0m\u001b[0mneighbor\u001b[0m\u001b[1;33m)\u001b[0m\u001b[1;33m)\u001b[0m\u001b[1;33m\u001b[0m\u001b[1;33m\u001b[0m\u001b[0m\n\u001b[0;32m     28\u001b[0m     \u001b[1;31m#Probability and Possibility\u001b[0m\u001b[1;33m\u001b[0m\u001b[1;33m\u001b[0m\u001b[1;33m\u001b[0m\u001b[0m\n\u001b[1;32m---> 29\u001b[1;33m     \u001b[0mProb\u001b[0m\u001b[1;33m=\u001b[0m\u001b[0mself\u001b[0m\u001b[1;33m.\u001b[0m\u001b[0mPsum\u001b[0m\u001b[1;33m.\u001b[0m\u001b[0mupdate\u001b[0m\u001b[1;33m(\u001b[0m\u001b[0marrangements\u001b[0m\u001b[1;33m+\u001b[0m\u001b[1;33m[\u001b[0m\u001b[0mBarrangement\u001b[0m\u001b[1;33m(\u001b[0m\u001b[1;33m{\u001b[0m\u001b[0mfrozenset\u001b[0m\u001b[1;33m(\u001b[0m\u001b[1;33m{\u001b[0m\u001b[1;33m}\u001b[0m\u001b[1;33m)\u001b[0m\u001b[1;33m}\u001b[0m\u001b[1;33m,\u001b[0m\u001b[1;33m{\u001b[0m\u001b[0mtuple\u001b[0m\u001b[1;33m(\u001b[0m\u001b[0ma\u001b[0m\u001b[1;33m)\u001b[0m \u001b[1;32mfor\u001b[0m \u001b[0ma\u001b[0m \u001b[1;32min\u001b[0m \u001b[0mpositions\u001b[0m\u001b[1;33m}\u001b[0m\u001b[1;33m)\u001b[0m\u001b[1;33m]\u001b[0m\u001b[1;33m)\u001b[0m\u001b[1;33m.\u001b[0m\u001b[0mprobs\u001b[0m\u001b[1;33m(\u001b[0m\u001b[1;33m)\u001b[0m\u001b[1;33m\u001b[0m\u001b[1;33m\u001b[0m\u001b[0m\n\u001b[0m\u001b[0;32m     30\u001b[0m     \u001b[0mself\u001b[0m\u001b[1;33m.\u001b[0m\u001b[0mPoss\u001b[0m\u001b[1;33m=\u001b[0m\u001b[0mself\u001b[0m\u001b[1;33m.\u001b[0m\u001b[0mPsum\u001b[0m\u001b[1;33m.\u001b[0m\u001b[0mposs\u001b[0m\u001b[1;33m(\u001b[0m\u001b[1;33m)\u001b[0m\u001b[1;33m\u001b[0m\u001b[1;33m\u001b[0m\u001b[0m\n\u001b[0;32m     31\u001b[0m     \u001b[1;32mfor\u001b[0m \u001b[0mkey\u001b[0m \u001b[1;32min\u001b[0m \u001b[0mProb\u001b[0m\u001b[1;33m.\u001b[0m\u001b[0mkeys\u001b[0m\u001b[1;33m(\u001b[0m\u001b[1;33m)\u001b[0m\u001b[1;33m:\u001b[0m\u001b[1;33m\u001b[0m\u001b[1;33m\u001b[0m\u001b[0m\n",
      "\u001b[1;32m<ipython-input-14-20a19f78c87d>\u001b[0m in \u001b[0;36mprobs\u001b[1;34m(self)\u001b[0m\n\u001b[0;32m     57\u001b[0m                 \u001b[1;32mif\u001b[0m\u001b[1;33m(\u001b[0m\u001b[0msample\u001b[0m\u001b[1;33m.\u001b[0m\u001b[0mwhole\u001b[0m\u001b[1;33m.\u001b[0m\u001b[0missubset\u001b[0m\u001b[1;33m(\u001b[0m\u001b[0mcheck\u001b[0m\u001b[1;33m)\u001b[0m\u001b[1;33m)\u001b[0m\u001b[1;33m:\u001b[0m\u001b[1;33m\u001b[0m\u001b[1;33m\u001b[0m\u001b[0m\n\u001b[0;32m     58\u001b[0m                     \u001b[0mSeperation\u001b[0m\u001b[1;33m[\u001b[0m\u001b[0mindex\u001b[0m\u001b[1;33m]\u001b[0m\u001b[1;33m=\u001b[0m\u001b[0mSeperation\u001b[0m\u001b[1;33m[\u001b[0m\u001b[0mindex\u001b[0m\u001b[1;33m]\u001b[0m\u001b[1;33m+\u001b[0m\u001b[1;33m[\u001b[0m\u001b[0msample\u001b[0m\u001b[1;33m]\u001b[0m\u001b[1;33m\u001b[0m\u001b[1;33m\u001b[0m\u001b[0m\n\u001b[1;32m---> 59\u001b[1;33m         \u001b[0mProbs\u001b[0m\u001b[1;33m=\u001b[0m\u001b[1;33m[\u001b[0m\u001b[0msum\u001b[0m\u001b[1;33m(\u001b[0m\u001b[0mP\u001b[0m\u001b[1;33m)\u001b[0m\u001b[1;33m.\u001b[0m\u001b[0mprobability\u001b[0m\u001b[1;33m(\u001b[0m\u001b[1;33m)\u001b[0m \u001b[1;32mfor\u001b[0m \u001b[0mP\u001b[0m \u001b[1;32min\u001b[0m \u001b[0mSeperation\u001b[0m\u001b[1;33m]\u001b[0m\u001b[1;33m\u001b[0m\u001b[1;33m\u001b[0m\u001b[0m\n\u001b[0m\u001b[0;32m     60\u001b[0m         \u001b[0mProb\u001b[0m \u001b[1;33m=\u001b[0m \u001b[1;33m{\u001b[0m\u001b[1;33m}\u001b[0m\u001b[1;33m\u001b[0m\u001b[1;33m\u001b[0m\u001b[0m\n\u001b[0;32m     61\u001b[0m         \u001b[1;32mfor\u001b[0m \u001b[0mP\u001b[0m \u001b[1;32min\u001b[0m \u001b[0mProbs\u001b[0m\u001b[1;33m:\u001b[0m\u001b[1;33m\u001b[0m\u001b[1;33m\u001b[0m\u001b[0m\n",
      "\u001b[1;32m<ipython-input-14-20a19f78c87d>\u001b[0m in \u001b[0;36m<listcomp>\u001b[1;34m(.0)\u001b[0m\n\u001b[0;32m     57\u001b[0m                 \u001b[1;32mif\u001b[0m\u001b[1;33m(\u001b[0m\u001b[0msample\u001b[0m\u001b[1;33m.\u001b[0m\u001b[0mwhole\u001b[0m\u001b[1;33m.\u001b[0m\u001b[0missubset\u001b[0m\u001b[1;33m(\u001b[0m\u001b[0mcheck\u001b[0m\u001b[1;33m)\u001b[0m\u001b[1;33m)\u001b[0m\u001b[1;33m:\u001b[0m\u001b[1;33m\u001b[0m\u001b[1;33m\u001b[0m\u001b[0m\n\u001b[0;32m     58\u001b[0m                     \u001b[0mSeperation\u001b[0m\u001b[1;33m[\u001b[0m\u001b[0mindex\u001b[0m\u001b[1;33m]\u001b[0m\u001b[1;33m=\u001b[0m\u001b[0mSeperation\u001b[0m\u001b[1;33m[\u001b[0m\u001b[0mindex\u001b[0m\u001b[1;33m]\u001b[0m\u001b[1;33m+\u001b[0m\u001b[1;33m[\u001b[0m\u001b[0msample\u001b[0m\u001b[1;33m]\u001b[0m\u001b[1;33m\u001b[0m\u001b[1;33m\u001b[0m\u001b[0m\n\u001b[1;32m---> 59\u001b[1;33m         \u001b[0mProbs\u001b[0m\u001b[1;33m=\u001b[0m\u001b[1;33m[\u001b[0m\u001b[0msum\u001b[0m\u001b[1;33m(\u001b[0m\u001b[0mP\u001b[0m\u001b[1;33m)\u001b[0m\u001b[1;33m.\u001b[0m\u001b[0mprobability\u001b[0m\u001b[1;33m(\u001b[0m\u001b[1;33m)\u001b[0m \u001b[1;32mfor\u001b[0m \u001b[0mP\u001b[0m \u001b[1;32min\u001b[0m \u001b[0mSeperation\u001b[0m\u001b[1;33m]\u001b[0m\u001b[1;33m\u001b[0m\u001b[1;33m\u001b[0m\u001b[0m\n\u001b[0m\u001b[0;32m     60\u001b[0m         \u001b[0mProb\u001b[0m \u001b[1;33m=\u001b[0m \u001b[1;33m{\u001b[0m\u001b[1;33m}\u001b[0m\u001b[1;33m\u001b[0m\u001b[1;33m\u001b[0m\u001b[0m\n\u001b[0;32m     61\u001b[0m         \u001b[1;32mfor\u001b[0m \u001b[0mP\u001b[0m \u001b[1;32min\u001b[0m \u001b[0mProbs\u001b[0m\u001b[1;33m:\u001b[0m\u001b[1;33m\u001b[0m\u001b[1;33m\u001b[0m\u001b[0m\n",
      "\u001b[1;31mTypeError\u001b[0m: unsupported operand type(s) for +: 'int' and 'Barrangement'"
     ]
    }
   ],
   "source": [
    "G=Grid(64,36)\n",
    "G.generate(600)\n",
    "\n",
    "GG=Game(G,Width=1600,Height=900,border=10,top_border=60)\n",
    "GG.background_color=(127,127,127)\n",
    "GG.Grid.set_background_color((0,0,255))\n",
    "\n",
    "import cProfile\n",
    "import pstats\n",
    "profile = cProfile.Profile()\n",
    "profile.runcall(GG.play)\n",
    "ps = pstats.Stats(profile)\n",
    "\n"
   ]
  },
  {
   "cell_type": "code",
   "execution_count": 29,
   "id": "65c39ac2",
   "metadata": {},
   "outputs": [],
   "source": [
    "List=[Barrangement(arrange(2,{1,2,3}),{1,2,3,4}),\n",
    "      Barrangement(arrange(3,{1,2,4,5}),{1,2,3,4,5})]"
   ]
  },
  {
   "cell_type": "code",
   "execution_count": 30,
   "id": "2e03dc90",
   "metadata": {},
   "outputs": [
    {
     "ename": "TypeError",
     "evalue": "unsupported operand type(s) for +: 'int' and 'Barrangement'",
     "output_type": "error",
     "traceback": [
      "\u001b[1;31m---------------------------------------------------------------------------\u001b[0m",
      "\u001b[1;31mTypeError\u001b[0m                                 Traceback (most recent call last)",
      "\u001b[1;32m<ipython-input-30-5f3facbb7650>\u001b[0m in \u001b[0;36m<module>\u001b[1;34m\u001b[0m\n\u001b[1;32m----> 1\u001b[1;33m \u001b[0msum\u001b[0m\u001b[1;33m(\u001b[0m\u001b[0mList\u001b[0m\u001b[1;33m)\u001b[0m\u001b[1;33m\u001b[0m\u001b[1;33m\u001b[0m\u001b[0m\n\u001b[0m",
      "\u001b[1;31mTypeError\u001b[0m: unsupported operand type(s) for +: 'int' and 'Barrangement'"
     ]
    }
   ],
   "source": [
    "sum(List)"
   ]
  },
  {
   "cell_type": "code",
   "execution_count": null,
   "id": "00383d90",
   "metadata": {
    "scrolled": false
   },
   "outputs": [],
   "source": [
    "\n",
    "ps.sort_stats('cumtime').print_stats(30)\n"
   ]
  }
 ],
 "metadata": {
  "kernelspec": {
   "display_name": "Python 3",
   "language": "python",
   "name": "python3"
  },
  "language_info": {
   "codemirror_mode": {
    "name": "ipython",
    "version": 3
   },
   "file_extension": ".py",
   "mimetype": "text/x-python",
   "name": "python",
   "nbconvert_exporter": "python",
   "pygments_lexer": "ipython3",
   "version": "3.8.5"
  }
 },
 "nbformat": 4,
 "nbformat_minor": 5
}
