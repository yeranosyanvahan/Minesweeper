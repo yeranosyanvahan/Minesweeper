{
 "cells": [
  {
   "cell_type": "code",
   "execution_count": 1,
   "metadata": {},
   "outputs": [],
   "source": [
    "def arrange(nbomb,space):\n",
    "    if(nbomb==1):\n",
    "        return frozenset(frozenset({i}) for i in space)\n",
    "    return frozenset(frozenset([i]) | t for i in space for t in arrange(nbomb-1,space - {i}))\n"
   ]
  },
  {
   "cell_type": "code",
   "execution_count": 2,
   "metadata": {},
   "outputs": [],
   "source": [
    "class Barrangement:\n",
    "    def __init__(self,arrangement,whole):\n",
    "        self.arrangement=arrangement\n",
    "        self.whole=whole\n",
    "    def __add__(self,B1):\n",
    "        intersect= B1.whole & self.whole\n",
    "        return Barrangement({b1 | b2 if(b1 & b2 == b1 & intersect == b2 & intersect) else None\n",
    "        for b1 in B1.arrangement\n",
    "        for b2 in self.arrangement}-{None},B1.whole | self.whole)\n",
    "    "
   ]
  },
  {
   "cell_type": "code",
   "execution_count": 5,
   "metadata": {},
   "outputs": [],
   "source": [
    "from classes import *\n",
    "def boardcolorinit(self):\n",
    "    pass\n",
    "def update(self):\n",
    "    Grid=self.visible\n",
    "    positions=np.array(np.where((Grid >= 1) & (Grid < 9))).T\n",
    "    neighbors=self.neighbors(positions)\n",
    "    Cond=self.visible[tuple(neighbors.T)]\n",
    "    neighbors=neighbors[(Cond==9)or(Cond==-1)]\n",
    "    Neighborset={'all':{tuple(p) for p in neighbors}}    \n",
    "    valueset={}\n",
    "    for p in positions:\n",
    "         neighbor = np.array([(p[0]+addx,p[1]+addy) for addx in range(-1,2) for addy in range(-1,2)])        \n",
    "         neighbor = {tuple(p) for p in neighbors}\n",
    "         Neighborset[tuple(p)]=neighbor\n",
    "         valueset[tuple(p)]=self.visible[p[0],p[1]]\n",
    "\n",
    "Grid.update=update\n",
    "Grid.boardcolorinit=boardcolorinit"
   ]
  },
  {
   "cell_type": "code",
   "execution_count": 7,
   "metadata": {
    "scrolled": false
   },
   "outputs": [
    {
     "name": "stdout",
     "output_type": "stream",
     "text": [
      "hello\n",
      "hello\n",
      "hello\n"
     ]
    }
   ],
   "source": [
    "G=Grid(40,20)\n",
    "G.generate(200)\n",
    "\n",
    "GG=Game(G,Width=1200,Height=600,border=20,top_border=50)\n",
    "GG.set_background_color((127,127,127))\n",
    "GG.Grid.set_background_color((255,0,0))\n",
    "GG.draw_board()\n",
    "\n",
    "GG.play()"
   ]
  },
  {
   "cell_type": "code",
   "execution_count": null,
   "metadata": {},
   "outputs": [],
   "source": []
  }
 ],
 "metadata": {
  "kernelspec": {
   "display_name": "Python 3",
   "language": "python",
   "name": "python3"
  },
  "language_info": {
   "codemirror_mode": {
    "name": "ipython",
    "version": 3
   },
   "file_extension": ".py",
   "mimetype": "text/x-python",
   "name": "python",
   "nbconvert_exporter": "python",
   "pygments_lexer": "ipython3",
   "version": "3.7.6"
  }
 },
 "nbformat": 4,
 "nbformat_minor": 5
}
