{
 "cells": [
  {
   "cell_type": "code",
   "execution_count": 1,
   "id": "4a5ad262",
   "metadata": {},
   "outputs": [
    {
     "name": "stdout",
     "output_type": "stream",
     "text": [
      "pygame 2.0.1 (SDL 2.0.14, Python 3.8.5)\n",
      "Hello from the pygame community. https://www.pygame.org/contribute.html\n"
     ]
    }
   ],
   "source": [
    "from classes import *\n",
    "from functools import reduce\n",
    "import pygame"
   ]
  },
  {
   "cell_type": "code",
   "execution_count": 2,
   "id": "ce6bbddc",
   "metadata": {},
   "outputs": [],
   "source": [
    "def arrange(nbomb,space):\n",
    "    if(nbomb==1):\n",
    "        return frozenset(frozenset({i}) for i in space)\n",
    "    return frozenset(frozenset([i]) | t for i in space for t in arrange(nbomb-1,space - {i}))\n"
   ]
  },
  {
   "cell_type": "code",
   "execution_count": 3,
   "id": "257cf47b",
   "metadata": {},
   "outputs": [],
   "source": [
    "class Barrangement:\n",
    "    def __init__(self,arrangement,whole):\n",
    "        self.arrangement=arrangement\n",
    "        self.whole=whole\n",
    "    def __add__(self,B1):\n",
    "        if(self.whole=={}): return B1\n",
    "        if(B1.whole=={}): return self\n",
    "        \n",
    "        intersect= B1.whole & self.whole\n",
    "        return Barrangement({b1 | b2 if(b1 & b2 == b1 & intersect == b2 & intersect) else None\n",
    "        for b1 in B1.arrangement\n",
    "        for b2 in self.arrangement}-{None},B1.whole | self.whole)\n",
    "    def probability(self):\n",
    "        prob={key:0 for key in self.whole}\n",
    "        L=len(self.arrangement)\n",
    "        if(L==0):\n",
    "            return prob\n",
    "        for S in self.arrangement:\n",
    "            for key in S:\n",
    "                prob[key]+=1\n",
    "\n",
    "        for key in prob.keys():  \n",
    "            prob[key]/=L\n",
    "        return prob\n",
    "    def __repr__(self):\n",
    "        return f'From:    {self.whole} \\nArrange: {self.arrangement}   '\n",
    "\n",
    "class Psum:\n",
    "    def __init__(self, arrangements):\n",
    "        self.arrangements=arrangements\n",
    "        self.Sets=[a.whole for a in arrangements]\n",
    "    def probs(self):\n",
    "        self.islands()\n",
    "        Probs=[[Barrangement({},{})]*len(self.Sets)]\n",
    "        for sample in self.arrangements:\n",
    "            for index,check in enumerate(self.Sets):\n",
    "                if(sample.whole in check):\n",
    "                    Probs[index]=Probs[index]+sample\n",
    "        Probs=[P.reduce(lambda x,y:x+y).probability() for P in Probs]\n",
    "\n",
    "        Prob = {}\n",
    "        for P in Probs:\n",
    "            Prob.update(P)\n",
    "        return Prob\n",
    "    \n",
    "    def islands(self):\n",
    "        if(len(self.Sets)==1):\n",
    "            return\n",
    "        a0=self.Sets[0]\n",
    "        for index,value in enumerate(self.Sets[1:]):\n",
    "            if(a0 & value != {}):\n",
    "                self.Sets[0]=self.Sets[0] | a0\n",
    "                del a0\n",
    "                del self.Sets[index+1]\n",
    "                self.island()\n",
    "                return\n",
    "        \n",
    "        del self.Sets[0]\n",
    "        self.Sets.append(a0)\n"
   ]
  },
  {
   "cell_type": "code",
   "execution_count": 4,
   "id": "2cb28369",
   "metadata": {},
   "outputs": [],
   "source": [
    "\n",
    "def boardcolorinit(self):\n",
    "    self.set_background_color((0,0,255))\n",
    "    self.prev_board=self.visible\n",
    "    self.Arrange=Barrangement({},{})\n",
    "def update(self):\n",
    "    Grid=self.visible\n",
    "    positions=np.array(np.where((Grid >= 1) & (Grid < 9))).T\n",
    "    neighbors=self.neighbors(positions)\n",
    "    Cond=self.visible[tuple(neighbors.T)]\n",
    "    neighbors=neighbors[(Cond==9) | (Cond==-1)]\n",
    "    \n",
    "    Neighborset={'all':{tuple(p) for p in neighbors}}    \n",
    "    valueset={}\n",
    "    for p in positions:\n",
    "         neighbor = np.array([(p[0]+addx,p[1]+addy) for addx in range(-1,2) for addy in range(-1,2)])        \n",
    "         neighbor = {tuple(p) for p in neighbor} & Neighborset['all']\n",
    "         Neighborset[tuple(p)]=neighbor\n",
    "         valueset[tuple(p)]=self.visible[p[0],p[1]]\n",
    "    \n",
    "    arrangements=[]\n",
    "    for key in valueset.keys():\n",
    "        neighbor=Neighborset[key]\n",
    "        value=valueset[key]\n",
    "        arrangements.append(Barrangement(arrange(value,neighbor),neighbor))\n",
    "        \n",
    "    Prob=Psum(arrangements).probs()\n",
    "    for key in Prob.keys():\n",
    "        n=int(Prob[key]*512)\n",
    "        color=(min(n,255),min((512-n),255),0)\n",
    "        self.background[key]=color\n",
    "\n",
    "Grid.update=update\n",
    "Grid.boardcolorinit=boardcolorinit"
   ]
  },
  {
   "cell_type": "code",
   "execution_count": 5,
   "id": "8eba0e1c",
   "metadata": {
    "scrolled": false
   },
   "outputs": [
    {
     "ename": "NameError",
     "evalue": "name 'i' is not defined",
     "output_type": "error",
     "traceback": [
      "\u001b[1;31m---------------------------------------------------------------------------\u001b[0m",
      "\u001b[1;31mNameError\u001b[0m                                 Traceback (most recent call last)",
      "\u001b[1;32m<ipython-input-5-e2c7bf3f8fa0>\u001b[0m in \u001b[0;36m<module>\u001b[1;34m\u001b[0m\n\u001b[0;32m      6\u001b[0m \u001b[0mGG\u001b[0m\u001b[1;33m.\u001b[0m\u001b[0mGrid\u001b[0m\u001b[1;33m.\u001b[0m\u001b[0mset_background_color\u001b[0m\u001b[1;33m(\u001b[0m\u001b[1;33m(\u001b[0m\u001b[1;36m0\u001b[0m\u001b[1;33m,\u001b[0m\u001b[1;36m0\u001b[0m\u001b[1;33m,\u001b[0m\u001b[1;36m255\u001b[0m\u001b[1;33m)\u001b[0m\u001b[1;33m)\u001b[0m\u001b[1;33m\u001b[0m\u001b[1;33m\u001b[0m\u001b[0m\n\u001b[0;32m      7\u001b[0m \u001b[0mGG\u001b[0m\u001b[1;33m.\u001b[0m\u001b[0mdraw_board\u001b[0m\u001b[1;33m(\u001b[0m\u001b[1;33m)\u001b[0m\u001b[1;33m\u001b[0m\u001b[1;33m\u001b[0m\u001b[0m\n\u001b[1;32m----> 8\u001b[1;33m \u001b[0mGG\u001b[0m\u001b[1;33m.\u001b[0m\u001b[0mplay\u001b[0m\u001b[1;33m(\u001b[0m\u001b[1;33m)\u001b[0m\u001b[1;33m\u001b[0m\u001b[1;33m\u001b[0m\u001b[0m\n\u001b[0m",
      "\u001b[1;32m~\\jupyter\\Minesweeper\\classes.py\u001b[0m in \u001b[0;36mplay\u001b[1;34m(self)\u001b[0m\n\u001b[0;32m    195\u001b[0m                             \u001b[1;32mbreak\u001b[0m\u001b[1;33m\u001b[0m\u001b[1;33m\u001b[0m\u001b[0m\n\u001b[0;32m    196\u001b[0m                          \u001b[1;32mif\u001b[0m\u001b[1;33m(\u001b[0m\u001b[0mrefresh\u001b[0m\u001b[1;33m)\u001b[0m\u001b[1;33m:\u001b[0m\u001b[1;33m\u001b[0m\u001b[1;33m\u001b[0m\u001b[0m\n\u001b[1;32m--> 197\u001b[1;33m                             \u001b[0mself\u001b[0m\u001b[1;33m.\u001b[0m\u001b[0mGrid\u001b[0m\u001b[1;33m.\u001b[0m\u001b[0mupdate\u001b[0m\u001b[1;33m(\u001b[0m\u001b[1;33m)\u001b[0m\u001b[1;33m\u001b[0m\u001b[1;33m\u001b[0m\u001b[0m\n\u001b[0m\u001b[0;32m    198\u001b[0m                             \u001b[0mself\u001b[0m\u001b[1;33m.\u001b[0m\u001b[0mdraw_board\u001b[0m\u001b[1;33m(\u001b[0m\u001b[1;33m)\u001b[0m\u001b[1;33m\u001b[0m\u001b[1;33m\u001b[0m\u001b[0m\n\u001b[0;32m    199\u001b[0m \u001b[1;33m\u001b[0m\u001b[0m\n",
      "\u001b[1;32m<ipython-input-4-8adf675e34cf>\u001b[0m in \u001b[0;36mupdate\u001b[1;34m(self)\u001b[0m\n\u001b[0;32m     24\u001b[0m         \u001b[0marrangements\u001b[0m\u001b[1;33m.\u001b[0m\u001b[0mappend\u001b[0m\u001b[1;33m(\u001b[0m\u001b[0mBarrangement\u001b[0m\u001b[1;33m(\u001b[0m\u001b[0marrange\u001b[0m\u001b[1;33m(\u001b[0m\u001b[0mvalue\u001b[0m\u001b[1;33m,\u001b[0m\u001b[0mneighbor\u001b[0m\u001b[1;33m)\u001b[0m\u001b[1;33m,\u001b[0m\u001b[0mneighbor\u001b[0m\u001b[1;33m)\u001b[0m\u001b[1;33m)\u001b[0m\u001b[1;33m\u001b[0m\u001b[1;33m\u001b[0m\u001b[0m\n\u001b[0;32m     25\u001b[0m \u001b[1;33m\u001b[0m\u001b[0m\n\u001b[1;32m---> 26\u001b[1;33m     \u001b[0mProb\u001b[0m\u001b[1;33m=\u001b[0m\u001b[0mPsum\u001b[0m\u001b[1;33m(\u001b[0m\u001b[0marrangements\u001b[0m\u001b[1;33m)\u001b[0m\u001b[1;33m.\u001b[0m\u001b[0mprobs\u001b[0m\u001b[1;33m(\u001b[0m\u001b[1;33m)\u001b[0m\u001b[1;33m\u001b[0m\u001b[1;33m\u001b[0m\u001b[0m\n\u001b[0m\u001b[0;32m     27\u001b[0m     \u001b[1;32mfor\u001b[0m \u001b[0mkey\u001b[0m \u001b[1;32min\u001b[0m \u001b[0mProb\u001b[0m\u001b[1;33m.\u001b[0m\u001b[0mkeys\u001b[0m\u001b[1;33m(\u001b[0m\u001b[1;33m)\u001b[0m\u001b[1;33m:\u001b[0m\u001b[1;33m\u001b[0m\u001b[1;33m\u001b[0m\u001b[0m\n\u001b[0;32m     28\u001b[0m         \u001b[0mn\u001b[0m\u001b[1;33m=\u001b[0m\u001b[0mint\u001b[0m\u001b[1;33m(\u001b[0m\u001b[0mProb\u001b[0m\u001b[1;33m[\u001b[0m\u001b[0mkey\u001b[0m\u001b[1;33m]\u001b[0m\u001b[1;33m*\u001b[0m\u001b[1;36m512\u001b[0m\u001b[1;33m)\u001b[0m\u001b[1;33m\u001b[0m\u001b[1;33m\u001b[0m\u001b[0m\n",
      "\u001b[1;32m<ipython-input-3-c0095ca01d20>\u001b[0m in \u001b[0;36mprobs\u001b[1;34m(self)\u001b[0m\n\u001b[0;32m     31\u001b[0m         \u001b[0mself\u001b[0m\u001b[1;33m.\u001b[0m\u001b[0mSets\u001b[0m\u001b[1;33m=\u001b[0m\u001b[1;33m[\u001b[0m\u001b[0ma\u001b[0m\u001b[1;33m.\u001b[0m\u001b[0mwhole\u001b[0m \u001b[1;32mfor\u001b[0m \u001b[0ma\u001b[0m \u001b[1;32min\u001b[0m \u001b[0marrangements\u001b[0m\u001b[1;33m]\u001b[0m\u001b[1;33m\u001b[0m\u001b[1;33m\u001b[0m\u001b[0m\n\u001b[0;32m     32\u001b[0m     \u001b[1;32mdef\u001b[0m \u001b[0mprobs\u001b[0m\u001b[1;33m(\u001b[0m\u001b[0mself\u001b[0m\u001b[1;33m)\u001b[0m\u001b[1;33m:\u001b[0m\u001b[1;33m\u001b[0m\u001b[1;33m\u001b[0m\u001b[0m\n\u001b[1;32m---> 33\u001b[1;33m         \u001b[0mself\u001b[0m\u001b[1;33m.\u001b[0m\u001b[0mislands\u001b[0m\u001b[1;33m(\u001b[0m\u001b[1;33m)\u001b[0m\u001b[1;33m\u001b[0m\u001b[1;33m\u001b[0m\u001b[0m\n\u001b[0m\u001b[0;32m     34\u001b[0m         \u001b[0mProbs\u001b[0m\u001b[1;33m=\u001b[0m\u001b[1;33m[\u001b[0m\u001b[1;33m[\u001b[0m\u001b[0mBarrangement\u001b[0m\u001b[1;33m(\u001b[0m\u001b[1;33m{\u001b[0m\u001b[1;33m}\u001b[0m\u001b[1;33m,\u001b[0m\u001b[1;33m{\u001b[0m\u001b[1;33m}\u001b[0m\u001b[1;33m)\u001b[0m\u001b[1;33m]\u001b[0m\u001b[1;33m*\u001b[0m\u001b[0mlen\u001b[0m\u001b[1;33m(\u001b[0m\u001b[0mself\u001b[0m\u001b[1;33m.\u001b[0m\u001b[0mSets\u001b[0m\u001b[1;33m)\u001b[0m\u001b[1;33m]\u001b[0m\u001b[1;33m\u001b[0m\u001b[1;33m\u001b[0m\u001b[0m\n\u001b[0;32m     35\u001b[0m         \u001b[1;32mfor\u001b[0m \u001b[0msample\u001b[0m \u001b[1;32min\u001b[0m \u001b[0mself\u001b[0m\u001b[1;33m.\u001b[0m\u001b[0marrangements\u001b[0m\u001b[1;33m:\u001b[0m\u001b[1;33m\u001b[0m\u001b[1;33m\u001b[0m\u001b[0m\n",
      "\u001b[1;32m<ipython-input-3-c0095ca01d20>\u001b[0m in \u001b[0;36mislands\u001b[1;34m(self)\u001b[0m\n\u001b[0;32m     49\u001b[0m         \u001b[0ma0\u001b[0m\u001b[1;33m=\u001b[0m\u001b[0mself\u001b[0m\u001b[1;33m.\u001b[0m\u001b[0mSets\u001b[0m\u001b[1;33m[\u001b[0m\u001b[1;36m0\u001b[0m\u001b[1;33m]\u001b[0m\u001b[1;33m\u001b[0m\u001b[1;33m\u001b[0m\u001b[0m\n\u001b[0;32m     50\u001b[0m         \u001b[1;32mfor\u001b[0m \u001b[0mindex\u001b[0m\u001b[1;33m,\u001b[0m\u001b[0mvalue\u001b[0m \u001b[1;32min\u001b[0m \u001b[0menumerate\u001b[0m\u001b[1;33m(\u001b[0m\u001b[0mself\u001b[0m\u001b[1;33m.\u001b[0m\u001b[0mSets\u001b[0m\u001b[1;33m[\u001b[0m\u001b[1;36m1\u001b[0m\u001b[1;33m:\u001b[0m\u001b[1;33m]\u001b[0m\u001b[1;33m)\u001b[0m\u001b[1;33m:\u001b[0m\u001b[1;33m\u001b[0m\u001b[1;33m\u001b[0m\u001b[0m\n\u001b[1;32m---> 51\u001b[1;33m             \u001b[1;32mif\u001b[0m\u001b[1;33m(\u001b[0m\u001b[0ma0\u001b[0m \u001b[1;33m&\u001b[0m \u001b[0mi\u001b[0m \u001b[1;33m!=\u001b[0m \u001b[1;33m{\u001b[0m\u001b[1;33m}\u001b[0m\u001b[1;33m)\u001b[0m\u001b[1;33m:\u001b[0m\u001b[1;33m\u001b[0m\u001b[1;33m\u001b[0m\u001b[0m\n\u001b[0m\u001b[0;32m     52\u001b[0m                 \u001b[0mself\u001b[0m\u001b[1;33m.\u001b[0m\u001b[0mSets\u001b[0m\u001b[1;33m[\u001b[0m\u001b[1;36m0\u001b[0m\u001b[1;33m]\u001b[0m\u001b[1;33m=\u001b[0m\u001b[0mself\u001b[0m\u001b[1;33m.\u001b[0m\u001b[0mSets\u001b[0m\u001b[1;33m[\u001b[0m\u001b[1;36m0\u001b[0m\u001b[1;33m]\u001b[0m \u001b[1;33m|\u001b[0m \u001b[0ma0\u001b[0m\u001b[1;33m\u001b[0m\u001b[1;33m\u001b[0m\u001b[0m\n\u001b[0;32m     53\u001b[0m                 \u001b[1;32mdel\u001b[0m \u001b[0ma0\u001b[0m\u001b[1;33m\u001b[0m\u001b[1;33m\u001b[0m\u001b[0m\n",
      "\u001b[1;31mNameError\u001b[0m: name 'i' is not defined"
     ]
    }
   ],
   "source": [
    "G=Grid(80,40)\n",
    "G.generate(300)\n",
    "\n",
    "GG=Game(G,Width=1200,Height=600,border=20,top_border=50)\n",
    "GG.set_background_color((127,127,127))\n",
    "GG.Grid.set_background_color((0,0,255))\n",
    "GG.draw_board()\n",
    "GG.play()"
   ]
  },
  {
   "cell_type": "code",
   "execution_count": null,
   "id": "70b7cc13",
   "metadata": {},
   "outputs": [],
   "source": []
  }
 ],
 "metadata": {
  "kernelspec": {
   "display_name": "Python 3",
   "language": "python",
   "name": "python3"
  },
  "language_info": {
   "codemirror_mode": {
    "name": "ipython",
    "version": 3
   },
   "file_extension": ".py",
   "mimetype": "text/x-python",
   "name": "python",
   "nbconvert_exporter": "python",
   "pygments_lexer": "ipython3",
   "version": "3.8.5"
  }
 },
 "nbformat": 4,
 "nbformat_minor": 5
}
